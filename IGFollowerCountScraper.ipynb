{
 "cells": [
  {
   "cell_type": "code",
   "execution_count": 1,
   "metadata": {},
   "outputs": [],
   "source": [
    "# for webscraping\n",
    "from selenium import webdriver \n",
    "from selenium.webdriver.common.by import By \n",
    "from selenium.webdriver.support.ui import WebDriverWait \n",
    "from selenium.webdriver.support import expected_conditions as EC \n",
    "from selenium.common.exceptions import TimeoutException\n",
    "from selenium.webdriver.common.keys import Keys\n",
    "import time\n",
    "\n",
    "import numpy as np  # for multi-dimensional containers \n",
    "import pandas as pd # for DataFrames\n",
    "import re # regex"
   ]
  },
  {
   "cell_type": "code",
   "execution_count": 2,
   "metadata": {},
   "outputs": [],
   "source": [
    "def xpath_wait(x_path,time):\n",
    "    '''\n",
    "    handles wait for loading elements found by xpath\n",
    "    '''\n",
    "    wait = WebDriverWait(driver, time)\n",
    "    return wait.until(EC.element_to_be_clickable((By.XPATH,\n",
    "            x_path)))\n",
    "\n",
    "def class_wait(class_name,time):\n",
    "    '''\n",
    "    handles wait for loading elements found by class name\n",
    "    '''\n",
    "    wait = WebDriverWait(driver, time)\n",
    "    return wait.until(EC.element_to_be_clickable((By.CLASS_NAME,\n",
    "            class_name)))"
   ]
  },
  {
   "cell_type": "code",
   "execution_count": 3,
   "metadata": {},
   "outputs": [],
   "source": [
    "# set up driver options\n",
    "option = webdriver.ChromeOptions()\n",
    "option.add_argument('--no-sandbox')\n",
    "option.add_argument(\"--disable-setuid-sandbox\")\n",
    "option.add_argument(\"--start-maximized\")"
   ]
  },
  {
   "cell_type": "code",
   "execution_count": 4,
   "metadata": {},
   "outputs": [],
   "source": [
    "base = 'https://www.trackalytics.com/instagram/profile/'\n",
    "profiles = [base + 'barackobama/', base + 'berniesanders/', \n",
    "            base + 'joebiden/', base + 'elizabethwarren/',\n",
    "            base + 'realdonaldtrump/', base + 'sentedcruz/']"
   ]
  },
  {
   "cell_type": "code",
   "execution_count": 60,
   "metadata": {},
   "outputs": [
    {
     "data": {
      "text/html": [
       "<div>\n",
       "<style scoped>\n",
       "    .dataframe tbody tr th:only-of-type {\n",
       "        vertical-align: middle;\n",
       "    }\n",
       "\n",
       "    .dataframe tbody tr th {\n",
       "        vertical-align: top;\n",
       "    }\n",
       "\n",
       "    .dataframe thead th {\n",
       "        text-align: right;\n",
       "    }\n",
       "</style>\n",
       "<table border=\"1\" class=\"dataframe\">\n",
       "  <thead>\n",
       "    <tr style=\"text-align: right;\">\n",
       "      <th></th>\n",
       "      <th>name</th>\n",
       "      <th>date</th>\n",
       "      <th>followers</th>\n",
       "      <th>followers_change</th>\n",
       "    </tr>\n",
       "  </thead>\n",
       "  <tbody>\n",
       "  </tbody>\n",
       "</table>\n",
       "</div>"
      ],
      "text/plain": [
       "Empty DataFrame\n",
       "Columns: [name, date, followers, followers_change]\n",
       "Index: []"
      ]
     },
     "execution_count": 60,
     "metadata": {},
     "output_type": "execute_result"
    }
   ],
   "source": [
    "columns = ['name','date','followers','followers_change']\n",
    "df1 = pd.DataFrame(columns=columns)\n",
    "df1"
   ]
  },
  {
   "cell_type": "code",
   "execution_count": 9,
   "metadata": {},
   "outputs": [],
   "source": [
    "driver = webdriver.Chrome('C:/Users/tyler/chromedriver_win32/chromedriver.exe', options = option)"
   ]
  },
  {
   "cell_type": "code",
   "execution_count": 76,
   "metadata": {},
   "outputs": [],
   "source": [
    "for p in profiles:\n",
    "    driver.get(p)\n",
    "    xpath_wait('//*[@id=\"summary_length\"]/label/select/option[5]',3).click() # open last 500 days of followers\n",
    "\n",
    "    # get name\n",
    "    name = p.split('profile/')[1].replace('/','')\n",
    "    \n",
    "    # get all text from table\n",
    "    posts = driver.find_elements_by_tag_name('td')\n",
    "    \n",
    "    # lists to hold data\n",
    "    names = [name] * (len(posts)//6)\n",
    "    dates = []\n",
    "    followers = []\n",
    "    followers_change = []\n",
    "\n",
    "    # obtain useful data\n",
    "    for i in range(len(posts)//6):\n",
    "        # indices of text in table\n",
    "        date_idx = 6 * i + 1\n",
    "        followers_idx = 6 * i + 2\n",
    "\n",
    "        # format and append data\n",
    "        dates.append(posts[date_idx].text)\n",
    "        follower_count,follower_change = posts[followers_idx].text.replace(',','').split(' - ')\n",
    "        follower_change = follower_change.replace('(','').replace(')','').replace('+','')\n",
    "        followers.append(follower_count)\n",
    "        followers_change.append(follower_change)\n",
    "\n",
    "    # turn into dataframe and append\n",
    "    data = {'name':names, 'date':dates,'followers':followers,'followers_change':followers_change}\n",
    "#     print(name + str(len(posts)) + ' ' + str(len(names)) + ' ' + str(len(dates)) + ' ' + str(len(followers)) + ' ' + str(len(followers_change)))\n",
    "    df2 = pd.DataFrame(data)\n",
    "    df1 = df1.append(df2)"
   ]
  },
  {
   "cell_type": "code",
   "execution_count": 78,
   "metadata": {},
   "outputs": [],
   "source": [
    "df1.to_csv('poli_ig_followers.csv',index=False)"
   ]
  }
 ],
 "metadata": {
  "kernelspec": {
   "display_name": "Python 3",
   "language": "python",
   "name": "python3"
  },
  "language_info": {
   "codemirror_mode": {
    "name": "ipython",
    "version": 3
   },
   "file_extension": ".py",
   "mimetype": "text/x-python",
   "name": "python",
   "nbconvert_exporter": "python",
   "pygments_lexer": "ipython3",
   "version": "3.7.6"
  }
 },
 "nbformat": 4,
 "nbformat_minor": 4
}
